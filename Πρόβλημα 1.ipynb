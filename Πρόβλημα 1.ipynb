{
 "cells": [
  {
   "cell_type": "code",
   "execution_count": 5,
   "metadata": {},
   "outputs": [],
   "source": [
    "import numpy as np # εισαγωγή βιβλιοθήκης για εύρεση μέσης τιμής και διάφορα στοιχεία\n",
    "\n",
    "import matplotlib.pyplot as plt # βιβλιοθήκη για γραφικές παραστάσεις\n"
   ]
  },
  {
   "cell_type": "code",
   "execution_count": 20,
   "metadata": {},
   "outputs": [],
   "source": [
    " dices = [5, 3, 3, 1, 5, 6, 1, 5, 4, 4, 3, 3, 3, 3, 6, 3, 3, 1, 6, 4, 6, 3,\n",
    "6, 3, 3, 5, 1, 2, 3, 5, 6, 3, 3, 3, 2, 3, 3, 3, 5, 3, 5, 3, 2, 5,\n",
    "3, 4, 6, 3, 3, 5, 5, 3, 6, 6, 6, 3, 4, 3, 6, 3, 2, 1, 6, 6, 6, 3,\n",
    "3, 5, 6, 3, 4, 2, 6, 3, 3, 2, 3, 6, 3, 6, 5, 5, 2, 6, 5, 3, 6, 3,\n",
    "1, 1, 6, 1, 3, 3, 1, 6, 3, 6, 4, 3, 6, 6, 6, 5, 6, 3, 3, 5, 3, 1,\n",
    "2, 6, 6, 3, 3, 3, 5, 3, 5, 5, 4, 6, 6, 3, 6, 1, 6, 1, 3, 6, 3, 6,\n",
    "5, 2, 6, 4, 1, 6, 6, 3, 1, 5, 6, 5, 5, 3, 3, 1, 3, 4, 3, 1, 3, 3,\n",
    "1, 5, 3, 5, 6, 6, 1, 3, 3, 3, 3, 3, 4, 6, 4, 3, 3, 3, 5, 4, 3, 2,\n",
    "5, 6, 4, 4] # δημιουργούμε πίνακα με ονομα dices και βάζουμε τα στοιχεία που μας δόθηκαν απο την εργασια\n",
    "\n",
    "N=0"
   ]
  },
  {
   "cell_type": "code",
   "execution_count": 21,
   "metadata": {},
   "outputs": [],
   "source": [
    "for x in dices:# Υπολογίζουμε το άθροισμα όλων των τιμών\n",
    "    N =N +x"
   ]
  },
  {
   "cell_type": "code",
   "execution_count": 22,
   "metadata": {},
   "outputs": [
    {
     "name": "stdout",
     "output_type": "stream",
     "text": [
      "3.8444444444444446\n"
     ]
    }
   ],
   "source": [
    "mean=N/len(dices)# Υπολογίζουμε τον αριθμητικό μέσο όρο των τιμών και των εμφανίζουμε στην οθόνη\n",
    "print(mean)"
   ]
  },
  {
   "cell_type": "code",
   "execution_count": 29,
   "metadata": {},
   "outputs": [
    {
     "name": "stdout",
     "output_type": "stream",
     "text": [
      "2.590192427063937\n"
     ]
    }
   ],
   "source": [
    "s2=0\n",
    "for x in dices:# Υπολογίζουμε την την τετραγωνική διασπορά του δείγματος s και την εμφανίζουμε στην οθόνη\n",
    "    s2=s2+(x-mean)**2\n",
    "s2=((len(dices) - 1)**-1)*s2\n",
    "print(s2)"
   ]
  },
  {
   "cell_type": "code",
   "execution_count": 37,
   "metadata": {},
   "outputs": [
    {
     "name": "stdout",
     "output_type": "stream",
     "text": [
      "2.5758024691358044\n"
     ]
    }
   ],
   "source": [
    "sn2=0\n",
    "for x in dices:# Υπολογίζουμε την (προκατειλημμένη) τετραγωνική διασπορά του δείγματος και την εμφανίζουμε στην οθόνη\n",
    "    sn2=sn2+(x-mean)**2\n",
    "sn2=(len(dices)**-1) * sn2\n",
    "print(sn2)"
   ]
  },
  {
   "cell_type": "code",
   "execution_count": 39,
   "metadata": {},
   "outputs": [
    {
     "data": {
      "text/plain": [
       "(array([ 0., 18., 10., 67., 15., 27., 43.,  0.]),\n",
       " array([0, 1, 2, 3, 4, 5, 6, 7, 8]),\n",
       " <a list of 8 Patch objects>)"
      ]
     },
     "execution_count": 39,
     "metadata": {},
     "output_type": "execute_result"
    },
    {
     "data": {
      "image/png": "[encoded data removed]",
      "text/plain": [
       "<Figure size 432x288 with 1 Axes>"
      ]
     },
     "metadata": {
      "needs_background": "light"
     },
     "output_type": "display_data"
    }
   ],
   "source": [
    "plt.hist(dices, bins =[ 0,1,2,3,4,5,6,7,8,], histtype = 'bar', ec = 'red')"
   ]
  },
  {
   "cell_type": "code",
   "execution_count": null,
   "metadata": {},
   "outputs": [],
   "source": [
    "#στην τάξη είχαμε αριθμό ρίψεων και αποτελεσμάτων που μας έδινε απευθείας μέσο όρο 3 και τυπικη απόκλιση 1. \n",
    "#Επίσης απο την κατανομή στο ιστόγραμμα φαίνεται ότι δεν είναι \n",
    "#ισοπίθανα τα δεδομένα αλλά αυτο συμβαίνει γιατί είναι μικρός ο αριθμός των ρίψεων"
   ]
  }
 ],
 "metadata": {
  "kernelspec": {
   "display_name": "Python 3",
   "language": "python",
   "name": "python3"
  },
  "language_info": {
   "codemirror_mode": {
    "name": "ipython",
    "version": 3
   },
   "file_extension": ".py",
   "mimetype": "text/x-python",
   "name": "python",
   "nbconvert_exporter": "python",
   "pygments_lexer": "ipython3",
   "version": "3.6.7"
  }
 },
 "nbformat": 4,
 "nbformat_minor": 2
}
