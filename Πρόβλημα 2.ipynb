
{
 "cells": [
  {
   "cell_type": "code",
   "execution_count": null,
   "metadata": {},
   "outputs": [],
   "source": [
    "import numpy as np # εισαγωγή βιβλιοθήκης για εύρεση μέσης τιμής και διάφορα στοιχεία\n",
    "\n",
    "import matplotlib.pyplot as plt # βιβλιοθήκη για γραφικές παραστάσεις"
   ]
  },
  {
   "cell_type": "code",
   "execution_count": null,
   "metadata": {},
   "outputs": [],
   "source": [
    "f = open(\"dices.txt\", \"r\")\n",
    "for x in f:\n",
    "  zari +=[x]\n",
    "  sum_ripseis=0\n",
    "def snake():\n",
    "    position = 0\n",
    "    ripseis=0\n",
    "    while position < 23:\n",
    "        position += zari[sum_ripseis]\n",
    "        sum_ripseis += 1\n",
    "        ripseis += 1\n",
    "    return synolo_ripseis"
   ]
  },
  {
   "cell_type": "code",
   "execution_count": null,
   "metadata": {},
   "outputs": [],
   "source": [
    "print(zari)"
   ]
  },
  {
   "cell_type": "code",
   "execution_count": null,
   "metadata": {},
   "outputs": [],
   "source": []
  },
  {
   "cell_type": "code",
   "execution_count": null,
   "metadata": {},
   "outputs": [],
   "source": []
  }
 ],
 "metadata": {
  "kernelspec": {
   "display_name": "Python 3",
   "language": "python",
   "name": "python3"
  },
  "language_info": {
   "codemirror_mode": {
    "name": "ipython",
    "version": 3
   },
   "file_extension": ".py",
   "mimetype": "text/x-python",
   "name": "python",
   "nbconvert_exporter": "python",
   "pygments_lexer": "ipython3",
   "version": "3.7.8"
  }
 },
 "nbformat": 4,
 "nbformat_minor": 4
}
